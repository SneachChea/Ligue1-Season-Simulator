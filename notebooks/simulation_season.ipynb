{
 "cells": [
  {
   "cell_type": "code",
   "execution_count": 1,
   "metadata": {},
   "outputs": [],
   "source": [
    "from finisher_l1.functional import init_teams, init_rank\n",
    "from finisher_l1 import leagues\n",
    "import pandas as pd\n",
    "import numpy as np\n",
    "import copy\n",
    "from tqdm.auto import tqdm\n",
    "import matplotlib.pyplot as plt"
   ]
  },
  {
   "cell_type": "markdown",
   "metadata": {},
   "source": [
    "# Data loading"
   ]
  },
  {
   "cell_type": "markdown",
   "metadata": {},
   "source": [
    "## Home rank data"
   ]
  },
  {
   "cell_type": "code",
   "execution_count": 5,
   "metadata": {},
   "outputs": [],
   "source": [
    "ranked_home = pd.read_csv(\"../data_df/df_rank_domicile.csv\")\n",
    "ranked_home = ranked_home.convert_dtypes()\n"
   ]
  },
  {
   "cell_type": "markdown",
   "metadata": {},
   "source": [
    "## Away rank data"
   ]
  },
  {
   "cell_type": "code",
   "execution_count": 6,
   "metadata": {},
   "outputs": [],
   "source": [
    "\n",
    "ranked_away = pd.read_csv(\"../data_df/df_rank_exterieur.csv\")\n",
    "ranked_away = ranked_away.convert_dtypes()"
   ]
  },
  {
   "cell_type": "markdown",
   "metadata": {},
   "source": [
    "# Initialize our teams strength"
   ]
  },
  {
   "cell_type": "code",
   "execution_count": 7,
   "metadata": {},
   "outputs": [],
   "source": [
    "init_all_teams = init_teams(rank_home=ranked_home, rank_away=ranked_away)\n",
    "rank = init_rank(rank_home=ranked_home, rank_away=ranked_away)"
   ]
  },
  {
   "cell_type": "markdown",
   "metadata": {},
   "source": [
    "# Load schedule for the rest of the season"
   ]
  },
  {
   "cell_type": "code",
   "execution_count": 8,
   "metadata": {},
   "outputs": [],
   "source": [
    "schedule = pd.read_csv(\"../data_df/calendar_2019_2020.csv\")\n",
    "schedule = schedule.convert_dtypes()"
   ]
  },
  {
   "cell_type": "markdown",
   "metadata": {},
   "source": [
    "# Simulation\n",
    "\n",
    "We simulate the 10 remaining weeks 20000 times."
   ]
  },
  {
   "cell_type": "code",
   "execution_count": 9,
   "metadata": {},
   "outputs": [
    {
     "data": {
      "application/vnd.jupyter.widget-view+json": {
       "model_id": "e58c331d41eb431c8f20d41a196253eb",
       "version_major": 2,
       "version_minor": 0
      },
      "text/plain": [
       "  0%|          | 0/20000 [00:00<?, ?it/s]"
      ]
     },
     "metadata": {},
     "output_type": "display_data"
    }
   ],
   "source": [
    "days_to_simulate = np.arange(28, 39)\n",
    "num_iteration = 20_000\n",
    "for i in tqdm(range(num_iteration)):\n",
    "    one_univers = leagues.League(dico_team=copy.deepcopy(init_all_teams), per_team_goals_conceded_away=ranked_away.BE.sum()/20, per_team_goals_conceded_home = ranked_home.BE.sum()/20)\n",
    "    for week in days_to_simulate:\n",
    "        one_univers.simulate_week(schedule=schedule, week=week)\n",
    "    rank.update_rank(one_univers.output_league())"
   ]
  },
  {
   "cell_type": "markdown",
   "metadata": {},
   "source": [
    "# Results "
   ]
  },
  {
   "cell_type": "markdown",
   "metadata": {},
   "source": [
    "The final rank is given below"
   ]
  },
  {
   "cell_type": "code",
   "execution_count": 9,
   "metadata": {},
   "outputs": [
    {
     "name": "stdout",
     "output_type": "stream",
     "text": [
      "1 - Paris S-G - 93.1\n",
      "2 - Marseille - 70.5\n",
      "3 - Rennes - 66.9\n",
      "4 - Lille - 63.4\n",
      "5 - Lyon - 57.5\n",
      "6 - Nice - 55.0\n",
      "7 - Reims - 54.1\n",
      "8 - Montpellier - 53.5\n",
      "9 - Monaco - 53.4\n",
      "10 - Strasbourg - 52.9\n",
      "11 - Bordeaux - 52.7\n",
      "12 - Nantes - 50.8\n",
      "13 - Angers - 50.4\n",
      "14 - Brest - 47.4\n",
      "15 - Metz - 46.5\n",
      "16 - Saint-Étienne - 41.8\n",
      "17 - Dijon - 41.4\n",
      "18 - Nîmes - 38.6\n",
      "19 - Amiens - 33.4\n",
      "20 - Toulouse - 20.4\n"
     ]
    }
   ],
   "source": [
    "for i, k in enumerate(rank.final_rank().keys()):\n",
    "    print(f\"{i+1} - {k} - {rank.final_rank()[k]:.3}\")"
   ]
  },
  {
   "cell_type": "markdown",
   "metadata": {},
   "source": [
    "We can also compare with the point per week metric that was used to get the final rank of the 2019/2020 ligue 1 Conforama"
   ]
  },
  {
   "cell_type": "code",
   "execution_count": 10,
   "metadata": {},
   "outputs": [
    {
     "name": "stdout",
     "output_type": "stream",
     "text": [
      "1 - Paris S-G - 2.449\n",
      "2 - Marseille - 1.852\n",
      "3 - Rennes - 1.760\n",
      "4 - Lille - 1.670\n",
      "5 - Lyon - 1.514\n",
      "6 - Nice - 1.447\n",
      "7 - Reims - 1.424\n",
      "8 - Montpellier - 1.406\n",
      "9 - Monaco - 1.405\n",
      "10 - Strasbourg - 1.393\n",
      "11 - Bordeaux - 1.386\n",
      "12 - Nantes - 1.337\n",
      "13 - Angers - 1.327\n",
      "14 - Brest - 1.246\n",
      "15 - Metz - 1.227\n",
      "16 - Saint-Étienne - 1.101\n",
      "17 - Dijon - 1.088\n",
      "18 - Nîmes - 1.018\n",
      "19 - Amiens - 0.879\n",
      "20 - Toulouse - 0.537\n"
     ]
    }
   ],
   "source": [
    "for i, k in enumerate(rank.final_rank().keys()):\n",
    "    print(f\"{i+1} - {k} - {rank.final_rank()[k]/38:.3f}\")"
   ]
  }
 ],
 "metadata": {
  "kernelspec": {
   "display_name": "finisher",
   "language": "python",
   "name": "python3"
  },
  "language_info": {
   "codemirror_mode": {
    "name": "ipython",
    "version": 3
   },
   "file_extension": ".py",
   "mimetype": "text/x-python",
   "name": "python",
   "nbconvert_exporter": "python",
   "pygments_lexer": "ipython3",
   "version": "3.11.4"
  },
  "orig_nbformat": 4
 },
 "nbformat": 4,
 "nbformat_minor": 2
}
